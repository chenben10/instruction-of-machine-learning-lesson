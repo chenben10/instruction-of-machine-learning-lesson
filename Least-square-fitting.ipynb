{
 "cells": [
  {
   "cell_type": "markdown",
   "metadata": {},
   "source": [
    "$(x_i,y_i)$\n",
    "\n",
    "$f(x)=kx+b$\n",
    "\n",
    "$S(p)=\\sum[y_i-f(x_i,p)]^2$"
   ]
  },
  {
   "cell_type": "code",
   "execution_count": null,
   "metadata": {},
   "outputs": [],
   "source": [
    "%matplotlib inline"
   ]
  },
  {
   "cell_type": "code",
   "execution_count": 8,
   "metadata": {},
   "outputs": [
    {
     "name": "stdout",
     "output_type": "stream",
     "text": [
      "r= (array([0.61349535, 1.79409254]), 1)\n",
      "k = 0.6134953491930442 b = 1.794092543259387\n"
     ]
    },
    {
     "data": {
      "image/png": "[encoded data removed]",
      "text/plain": [
       "<Figure size 432x288 with 1 Axes>"
      ]
     },
     "metadata": {
      "needs_background": "light"
     },
     "output_type": "display_data"
    }
   ],
   "source": [
    "import numpy as np\n",
    "from scipy.optimize import leastsq, least_squares\n",
    "\n",
    "X = np.array([ 8.19,  2.72,  6.39,  8.71,  4.7 ,  2.66,  3.78])      #利用list[]賦與np.array初始值\n",
    "Y = np.array([ 7.01,  2.78,  6.47,  6.71,  4.1 ,  4.23,  4.05])\n",
    "\n",
    "def residuals(p): \n",
    "    #計算以p為参數的直線和原始數據之間的誤差\n",
    "    k, b = p     \n",
    "    return Y - (k*X + b)\n",
    "\n",
    "# leastsq使得residuals()的输出数组的平方和最小，参数的初始值为[1,0]\n",
    "r = leastsq(residuals, [1, 0])         #leastsq即將廢棄改用least_squares\n",
    "#r = least_squares(residuals, [1, 0])\n",
    "print(\"r=\",r)\n",
    "k, b = r[0]\n",
    "print (\"k =\",k, \"b =\",b)\n",
    "\n",
    "\n",
    "#下面是绘图部分\n",
    "import pylab as pl\n",
    "from matplotlib.patches import Rectangle\n",
    "\n",
    "pl.plot(X, Y, \"o\")\n",
    "X0 = np.linspace(2, 10, 3)\n",
    "Y0 = k*X0 + b\n",
    "pl.plot(X0, Y0)\n",
    "\n",
    "for x, y in zip(X, Y):\n",
    "    y2 = k*x+b\n",
    "    rect = Rectangle((x,y), abs(y-y2), y2-y, facecolor=\"red\", alpha=0.2)\n",
    "    pl.gca().add_patch(rect)\n",
    "\n",
    "pl.gca().set_aspect(\"equal\")\n",
    "pl.show()\n",
    "\n"
   ]
  },
  {
   "cell_type": "code",
   "execution_count": null,
   "metadata": {},
   "outputs": [],
   "source": []
  }
 ],
 "metadata": {
  "kernelspec": {
   "display_name": "Python 3",
   "language": "python",
   "name": "python3"
  },
  "language_info": {
   "codemirror_mode": {
    "name": "ipython",
    "version": 3
   },
   "file_extension": ".py",
   "mimetype": "text/x-python",
   "name": "python",
   "nbconvert_exporter": "python",
   "pygments_lexer": "ipython3",
   "version": "3.7.1"
  }
 },
 "nbformat": 4,
 "nbformat_minor": 2
}
