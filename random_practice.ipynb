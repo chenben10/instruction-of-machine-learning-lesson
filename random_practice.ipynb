{
 "cells": [
  {
   "cell_type": "code",
   "execution_count": 6,
   "metadata": {
    "ExecuteTime": {
     "end_time": "2019-03-05T03:11:40.447230Z",
     "start_time": "2019-03-05T03:11:40.431623Z"
    }
   },
   "outputs": [
    {
     "name": "stdout",
     "output_type": "stream",
     "text": [
      "0.8474337369372327\n",
      "0.763774618976614\n"
     ]
    }
   ],
   "source": [
    "#產生偽隨機亂數pseudo-random number\n",
    "import random as rd\n",
    "\n",
    "n1=rd.random()                             # Random float:  0.0 <= x < 1.0\n",
    "print (n1)\n",
    "\n",
    "n2=rd.random()\n",
    "print (n2)"
   ]
  },
  {
   "cell_type": "code",
   "execution_count": 7,
   "metadata": {
    "ExecuteTime": {
     "end_time": "2019-03-05T03:12:48.915295Z",
     "start_time": "2019-03-05T03:12:48.884051Z"
    }
   },
   "outputs": [
    {
     "name": "stdout",
     "output_type": "stream",
     "text": [
      "0.5289353829404123\n",
      "0.5289353829404123\n"
     ]
    }
   ],
   "source": [
    "#使用亂數種子固定亂數狀態\n",
    "import random as rd\n",
    "\n",
    "random.seed(34)\n",
    "n3=rd.random()                             # Random float:  0.0 <= x < 1.0\n",
    "print (n3)\n",
    "\n",
    "random.seed(34)\n",
    "n4=rd.random()\n",
    "print (n4)"
   ]
  },
  {
   "cell_type": "code",
   "execution_count": 12,
   "metadata": {
    "ExecuteTime": {
     "end_time": "2019-03-05T03:17:06.111720Z",
     "start_time": "2019-03-05T03:17:06.080508Z"
    }
   },
   "outputs": [
    {
     "name": "stdout",
     "output_type": "stream",
     "text": [
      "12\n",
      "46\n"
     ]
    }
   ],
   "source": [
    "#取得整數亂數\n",
    "import random as rd\n",
    "\n",
    "n5=rd.randrange(17)                        # Integer from 0 to 9 inclusive\n",
    "print (n5)\n",
    "\n",
    "# range(start, stop, step)\n",
    "n6=rd.randrange(0, 101, 2)                 # Even integer from 0 to 100 inclusive\n",
    "print (n6)"
   ]
  },
  {
   "cell_type": "code",
   "execution_count": 13,
   "metadata": {
    "ExecuteTime": {
     "end_time": "2019-03-05T03:18:58.130059Z",
     "start_time": "2019-03-05T03:18:58.098814Z"
    }
   },
   "outputs": [
    {
     "name": "stdout",
     "output_type": "stream",
     "text": [
      "win\n"
     ]
    }
   ],
   "source": [
    "#從某個資料結構挑出一個元素\n",
    "import random as rd\n",
    "\n",
    "my_list=['win', 'lose', 'draw']\n",
    "print( rd.choice(my_list) )"
   ]
  },
  {
   "cell_type": "code",
   "execution_count": 16,
   "metadata": {
    "ExecuteTime": {
     "end_time": "2019-03-05T03:21:24.741049Z",
     "start_time": "2019-03-05T03:21:24.709805Z"
    }
   },
   "outputs": [
    {
     "name": "stdout",
     "output_type": "stream",
     "text": [
      "['Beautiful', 'is', 'better', 'than', 'ugly']\n",
      "['ugly', 'Beautiful', 'is', 'better', 'than']\n"
     ]
    }
   ],
   "source": [
    "# Shuffle a list\n",
    "\n",
    "import random as rd\n",
    "\n",
    "my_list2='Beautiful is better than ugly'.split()\n",
    "print(my_list2)\n",
    "rd.shuffle(my_list2)\n",
    "print(my_list2)"
   ]
  },
  {
   "cell_type": "code",
   "execution_count": null,
   "metadata": {},
   "outputs": [],
   "source": [
    "sample([10, 20, 30, 40, 50], k=4)"
   ]
  }
 ],
 "metadata": {
  "hide_input": false,
  "kernelspec": {
   "display_name": "Python 3",
   "language": "python",
   "name": "python3"
  },
  "language_info": {
   "codemirror_mode": {
    "name": "ipython",
    "version": 3
   },
   "file_extension": ".py",
   "mimetype": "text/x-python",
   "name": "python",
   "nbconvert_exporter": "python",
   "pygments_lexer": "ipython3",
   "version": "3.6.5"
  },
  "toc": {
   "base_numbering": 1,
   "nav_menu": {},
   "number_sections": true,
   "sideBar": true,
   "skip_h1_title": false,
   "title_cell": "Table of Contents",
   "title_sidebar": "Contents",
   "toc_cell": false,
   "toc_position": {},
   "toc_section_display": true,
   "toc_window_display": false
  },
  "varInspector": {
   "cols": {
    "lenName": 16,
    "lenType": 16,
    "lenVar": 40
   },
   "kernels_config": {
    "python": {
     "delete_cmd_postfix": "",
     "delete_cmd_prefix": "del ",
     "library": "var_list.py",
     "varRefreshCmd": "print(var_dic_list())"
    },
    "r": {
     "delete_cmd_postfix": ") ",
     "delete_cmd_prefix": "rm(",
     "library": "var_list.r",
     "varRefreshCmd": "cat(var_dic_list()) "
    }
   },
   "types_to_exclude": [
    "module",
    "function",
    "builtin_function_or_method",
    "instance",
    "_Feature"
   ],
   "window_display": false
  }
 },
 "nbformat": 4,
 "nbformat_minor": 2
}
