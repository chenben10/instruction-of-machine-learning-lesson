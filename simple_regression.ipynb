{
 "cells": [
  {
   "cell_type": "code",
   "execution_count": 51,
   "metadata": {},
   "outputs": [],
   "source": [
    "%matplotlib inline"
   ]
  },
  {
   "cell_type": "markdown",
   "metadata": {},
   "source": [
    "we'll use the data of Boston housing prices which comes by default in scikit-learn.\n",
    "\n",
    "The basic computation unit in TensorFlow is a graph. A TensorFlow project is typically structured into 2 parts:\n",
    "\n",
    "* a construction phase where you design the computational graph, and\n",
    "* an analysis phase where you run the graph and perform calculations on it."
   ]
  },
  {
   "cell_type": "code",
   "execution_count": 52,
   "metadata": {},
   "outputs": [
    {
     "name": "stdout",
     "output_type": "stream",
     "text": [
      "(506, 13)\n",
      "[[6.3200e-03 1.8000e+01 2.3100e+00 ... 1.5300e+01 3.9690e+02 4.9800e+00]\n",
      " [2.7310e-02 0.0000e+00 7.0700e+00 ... 1.7800e+01 3.9690e+02 9.1400e+00]\n",
      " [2.7290e-02 0.0000e+00 7.0700e+00 ... 1.7800e+01 3.9283e+02 4.0300e+00]\n",
      " ...\n",
      " [6.0760e-02 0.0000e+00 1.1930e+01 ... 2.1000e+01 3.9690e+02 5.6400e+00]\n",
      " [1.0959e-01 0.0000e+00 1.1930e+01 ... 2.1000e+01 3.9345e+02 6.4800e+00]\n",
      " [4.7410e-02 0.0000e+00 1.1930e+01 ... 2.1000e+01 3.9690e+02 7.8800e+00]]\n",
      "[6.320e-03 1.800e+01 2.310e+00 0.000e+00 5.380e-01 6.575e+00 6.520e+01\n",
      " 4.090e+00 1.000e+00 2.960e+02 1.530e+01 3.969e+02 4.980e+00]\n",
      "(506,)\n",
      "[24.  21.6 34.7 33.4 36.2 28.7 22.9 27.1 16.5 18.9 15.  18.9 21.7 20.4\n",
      " 18.2 19.9 23.1 17.5 20.2 18.2 13.6 19.6 15.2 14.5 15.6 13.9 16.6 14.8\n",
      " 18.4 21.  12.7 14.5 13.2 13.1 13.5 18.9 20.  21.  24.7 30.8 34.9 26.6\n",
      " 25.3 24.7 21.2 19.3 20.  16.6 14.4 19.4 19.7 20.5 25.  23.4 18.9 35.4\n",
      " 24.7 31.6 23.3 19.6 18.7 16.  22.2 25.  33.  23.5 19.4 22.  17.4 20.9\n",
      " 24.2 21.7 22.8 23.4 24.1 21.4 20.  20.8 21.2 20.3 28.  23.9 24.8 22.9\n",
      " 23.9 26.6 22.5 22.2 23.6 28.7 22.6 22.  22.9 25.  20.6 28.4 21.4 38.7\n",
      " 43.8 33.2 27.5 26.5 18.6 19.3 20.1 19.5 19.5 20.4 19.8 19.4 21.7 22.8\n",
      " 18.8 18.7 18.5 18.3 21.2 19.2 20.4 19.3 22.  20.3 20.5 17.3 18.8 21.4\n",
      " 15.7 16.2 18.  14.3 19.2 19.6 23.  18.4 15.6 18.1 17.4 17.1 13.3 17.8\n",
      " 14.  14.4 13.4 15.6 11.8 13.8 15.6 14.6 17.8 15.4 21.5 19.6 15.3 19.4\n",
      " 17.  15.6 13.1 41.3 24.3 23.3 27.  50.  50.  50.  22.7 25.  50.  23.8\n",
      " 23.8 22.3 17.4 19.1 23.1 23.6 22.6 29.4 23.2 24.6 29.9 37.2 39.8 36.2\n",
      " 37.9 32.5 26.4 29.6 50.  32.  29.8 34.9 37.  30.5 36.4 31.1 29.1 50.\n",
      " 33.3 30.3 34.6 34.9 32.9 24.1 42.3 48.5 50.  22.6 24.4 22.5 24.4 20.\n",
      " 21.7 19.3 22.4 28.1 23.7 25.  23.3 28.7 21.5 23.  26.7 21.7 27.5 30.1\n",
      " 44.8 50.  37.6 31.6 46.7 31.5 24.3 31.7 41.7 48.3 29.  24.  25.1 31.5\n",
      " 23.7 23.3 22.  20.1 22.2 23.7 17.6 18.5 24.3 20.5 24.5 26.2 24.4 24.8\n",
      " 29.6 42.8 21.9 20.9 44.  50.  36.  30.1 33.8 43.1 48.8 31.  36.5 22.8\n",
      " 30.7 50.  43.5 20.7 21.1 25.2 24.4 35.2 32.4 32.  33.2 33.1 29.1 35.1\n",
      " 45.4 35.4 46.  50.  32.2 22.  20.1 23.2 22.3 24.8 28.5 37.3 27.9 23.9\n",
      " 21.7 28.6 27.1 20.3 22.5 29.  24.8 22.  26.4 33.1 36.1 28.4 33.4 28.2\n",
      " 22.8 20.3 16.1 22.1 19.4 21.6 23.8 16.2 17.8 19.8 23.1 21.  23.8 23.1\n",
      " 20.4 18.5 25.  24.6 23.  22.2 19.3 22.6 19.8 17.1 19.4 22.2 20.7 21.1\n",
      " 19.5 18.5 20.6 19.  18.7 32.7 16.5 23.9 31.2 17.5 17.2 23.1 24.5 26.6\n",
      " 22.9 24.1 18.6 30.1 18.2 20.6 17.8 21.7 22.7 22.6 25.  19.9 20.8 16.8\n",
      " 21.9 27.5 21.9 23.1 50.  50.  50.  50.  50.  13.8 13.8 15.  13.9 13.3\n",
      " 13.1 10.2 10.4 10.9 11.3 12.3  8.8  7.2 10.5  7.4 10.2 11.5 15.1 23.2\n",
      "  9.7 13.8 12.7 13.1 12.5  8.5  5.   6.3  5.6  7.2 12.1  8.3  8.5  5.\n",
      " 11.9 27.9 17.2 27.5 15.  17.2 17.9 16.3  7.   7.2  7.5 10.4  8.8  8.4\n",
      " 16.7 14.2 20.8 13.4 11.7  8.3 10.2 10.9 11.   9.5 14.5 14.1 16.1 14.3\n",
      " 11.7 13.4  9.6  8.7  8.4 12.8 10.5 17.1 18.4 15.4 10.8 11.8 14.9 12.6\n",
      " 14.1 13.  13.4 15.2 16.1 17.8 14.9 14.1 12.7 13.5 14.9 20.  16.4 17.7\n",
      " 19.5 20.2 21.4 19.9 19.  19.1 19.1 20.1 19.9 19.6 23.2 29.8 13.8 13.3\n",
      " 16.7 12.  14.6 21.4 23.  23.7 25.  21.8 20.6 21.2 19.1 20.6 15.2  7.\n",
      "  8.1 13.6 20.1 21.8 24.5 23.1 19.7 18.3 21.2 17.5 16.8 22.4 20.6 23.9\n",
      " 22.  11.9]\n"
     ]
    }
   ],
   "source": [
    "import tensorflow as tf\n",
    "from sklearn.datasets import load_boston\n",
    "from sklearn.preprocessing import scale\n",
    "from matplotlib import pyplot as plt\n",
    "\n",
    "# Get the data\n",
    "# https://scikit-learn.org/stable/modules/generated/sklearn.datasets.load_boston.html#sklearn.datasets.load_boston\n",
    "total_features, total_prices = load_boston(True)     # return (data, target) : tuple if return_X_y is True\n",
    "print(total_features.data.shape)\n",
    "print(total_features)\n",
    "print(total_features[0,:])\n",
    "print(total_prices.data.shape)\n",
    "print(total_prices)\n",
    "\n"
   ]
  },
  {
   "cell_type": "markdown",
   "metadata": {},
   "source": [
    "Standardization of datasets is a common requirement for many machine learning estimators.\n",
    "\n",
    "In practice we often ignore the shape of the distribution and just transform the data to center it by removing the mean value of each feature, then scale it by dividing non-constant features by their standard deviation."
   ]
  },
  {
   "cell_type": "code",
   "execution_count": 53,
   "metadata": {},
   "outputs": [
    {
     "name": "stdout",
     "output_type": "stream",
     "text": [
      "[[-0.64113113  0.10080399 -1.03067021 ... -1.00268807  0.42054571\n",
      "  -0.92348369]\n",
      " [-0.60977124 -0.59350918 -0.28321604 ...  0.09274682  0.42054571\n",
      "  -0.25234807]\n",
      " [-0.60980112 -0.59350918 -0.28321604 ...  0.09274682  0.32645614\n",
      "  -1.07674783]\n",
      " ...\n",
      " [-0.43986906 -0.59350918  0.79242704 ... -0.6959663   0.42054571\n",
      "   0.82856747]\n",
      " [-0.55396886  2.10659757 -1.04166218 ... -1.22177505 -0.24201132\n",
      "  -0.925097  ]\n",
      " [-0.56748992  2.10659757 -1.04166218 ... -1.22177505 -0.16479777\n",
      "  -0.96220305]]\n"
     ]
    }
   ],
   "source": [
    "#https://scikit-learn.org/stable/modules/preprocessing.html#standardization-or-mean-removal-and-variance-scaling\n",
    "\n",
    "# Keep 300 samples for training\n",
    "train_features = scale(total_features[:300])\n",
    "train_prices = total_prices[:300]\n",
    "\n",
    "print(train_features)"
   ]
  },
  {
   "cell_type": "code",
   "execution_count": 54,
   "metadata": {},
   "outputs": [],
   "source": [
    "# Keep 100 samples for validation\n",
    "valid_features = scale(total_features[300:400])\n",
    "valid_prices = total_prices[300:400]\n",
    "\n",
    "# Keep remaining samples as test set\n",
    "test_features = scale(total_features[400:])\n",
    "test_prices = total_prices[400:]"
   ]
  },
  {
   "cell_type": "markdown",
   "metadata": {},
   "source": [
    "$y*=f(x)=wx+b$"
   ]
  },
  {
   "cell_type": "code",
   "execution_count": 55,
   "metadata": {},
   "outputs": [],
   "source": [
    "# https://www.tensorflow.org/api_docs/python/tf/random/truncated_normal\n",
    "\n",
    "w = tf.Variable(tf.truncated_normal([13, 1], mean=0.0, stddev=1.0, dtype=tf.float64))\n",
    "\n",
    "# https://www.tensorflow.org/api_docs/python/tf/zeros\n",
    "\n",
    "b = tf.Variable(tf.zeros([1], dtype = tf.float64))"
   ]
  },
  {
   "cell_type": "code",
   "execution_count": 56,
   "metadata": {},
   "outputs": [],
   "source": [
    "# https://www.tensorflow.org/api_docs/python/tf/math/add\n",
    "# https://www.tensorflow.org/api_docs/python/tf/linalg/matmul\n",
    "# https://www.tensorflow.org/api_docs/python/tf/math/square\n",
    "# https://www.tensorflow.org/api_docs/python/tf/math/reduce_mean\n",
    "\n",
    "def calc(x, y):\n",
    "    # Returns predictions and error\n",
    "    predictions = tf.add(b, tf.matmul(x, w))\n",
    "    error = tf.reduce_mean(tf.square(y - predictions))\n",
    "    return [ predictions, error ]\n",
    "\n",
    "y, lost = calc(train_features, train_prices)"
   ]
  },
  {
   "cell_type": "code",
   "execution_count": 57,
   "metadata": {},
   "outputs": [],
   "source": [
    "# Feel free to tweak these 2 values:\n",
    "\n",
    "learning_rate = 0.005\n",
    "\n",
    "epochs = 3000\n",
    "\n",
    "points = [[], []] # You'll see later why I need this\n",
    "\n",
    "# https://www.tensorflow.org/api_docs/python/tf/initializers/global_variables\n",
    "# https://www.tensorflow.org/api_docs/python/tf/train/GradientDescentOptimizer\n",
    "\n",
    "init = tf.global_variables_initializer()\n",
    "optimizer = tf.train.GradientDescentOptimizer(learning_rate).minimize(lost)"
   ]
  },
  {
   "cell_type": "markdown",
   "metadata": {},
   "source": [
    "Python 語言提供了 with 這個獨特的語法，來幫助使用者管理使用的資源，像是開啟的檔案、網路 socket，包含tensorflow的session。"
   ]
  },
  {
   "cell_type": "code",
   "execution_count": 59,
   "metadata": {},
   "outputs": [
    {
     "name": "stdout",
     "output_type": "stream",
     "text": [
      "719.4171120354998\n",
      "164.98739493555502\n",
      "90.77505785211935\n",
      "80.67254261983852\n",
      "79.21109178499508\n",
      "78.94292086132614\n",
      "78.85823679908079\n",
      "78.81390962906492\n",
      "78.78558583908143\n",
      "78.76655532015026\n",
      "78.75360995890622\n",
      "78.74476627193786\n",
      "78.73870937874071\n",
      "78.73455250469591\n",
      "78.7316942250677\n",
      "78.72972538166351\n",
      "78.72836693663182\n",
      "78.72742817159609\n",
      "78.72677846433692\n",
      "78.72632817800911\n",
      "78.72601568776751\n",
      "78.72579855293732\n",
      "78.72564749661956\n",
      "78.72554229118585\n",
      "78.7254689406265\n",
      "78.7254177472846\n",
      "78.72538198296718\n",
      "78.72535697390984\n",
      "78.72533946967548\n",
      "78.72532720720734\n"
     ]
    },
    {
     "data": {
      "image/png": "[encoded data removed]",
      "text/plain": [
       "<Figure size 432x288 with 3 Axes>"
      ]
     },
     "metadata": {
      "needs_background": "light"
     },
     "output_type": "display_data"
    },
    {
     "name": "stdout",
     "output_type": "stream",
     "text": [
      "[[25.48441841]\n",
      " [25.47919917]\n",
      " [25.47614312]\n",
      " [25.47648208]\n",
      " [25.47677932]\n",
      " [25.48100768]\n",
      " [25.48079464]\n",
      " [25.48297731]\n",
      " [25.49082697]\n",
      " [25.48858429]\n",
      " [25.48333338]\n",
      " [25.4858033 ]\n",
      " [25.48908502]\n",
      " [25.49006899]\n",
      " [25.48851499]\n",
      " [25.49020298]\n",
      " [25.48429851]\n",
      " [25.48493647]\n",
      " [25.48465557]\n",
      " [25.48320859]\n",
      " [25.48448665]\n",
      " [25.48544154]\n",
      " [25.48604326]\n",
      " [25.48922838]\n",
      " [25.48334487]\n",
      " [25.48019751]\n",
      " [25.48272189]\n",
      " [25.48124959]\n",
      " [25.47900104]\n",
      " [25.47688472]\n",
      " [25.48029616]\n",
      " [25.48155261]\n",
      " [25.4825224 ]\n",
      " [25.48688501]\n",
      " [25.48608486]\n",
      " [25.48515766]\n",
      " [25.48582026]\n",
      " [25.48813714]\n",
      " [25.48349164]\n",
      " [25.48443862]\n",
      " [25.48745939]\n",
      " [25.48273649]\n",
      " [25.48538485]\n",
      " [25.48519243]\n",
      " [25.48188065]\n",
      " [25.48641567]\n",
      " [25.48592479]\n",
      " [25.48490039]\n",
      " [25.48463365]\n",
      " [25.48375539]\n",
      " [25.48819415]\n",
      " [25.4885284 ]\n",
      " [25.48725006]\n",
      " [25.49198029]\n",
      " [25.48994133]\n",
      " [25.48999715]\n",
      " [25.48686233]\n",
      " [25.48929115]\n",
      " [25.49108407]\n",
      " [25.48880874]\n",
      " [25.49256524]\n",
      " [25.48822488]\n",
      " [25.49756372]\n",
      " [25.49013287]\n",
      " [25.47884447]\n",
      " [25.50699367]\n",
      " [25.49390982]\n",
      " [25.49890867]\n",
      " [25.50240554]\n",
      " [25.49222588]\n",
      " [25.49086679]\n",
      " [25.48927355]\n",
      " [25.49120062]\n",
      " [25.47596834]\n",
      " [25.47695393]\n",
      " [25.47946016]\n",
      " [25.47433121]\n",
      " [25.47686953]\n",
      " [25.47549325]\n",
      " [25.47925089]\n",
      " [25.47118955]\n",
      " [25.47819579]\n",
      " [25.48327117]\n",
      " [25.4825813 ]\n",
      " [25.48078094]\n",
      " [25.47736281]\n",
      " [25.48287566]\n",
      " [25.47590734]\n",
      " [25.4805414 ]\n",
      " [25.48653856]\n",
      " [25.48788069]\n",
      " [25.48215725]\n",
      " [25.48384538]\n",
      " [25.48545501]\n",
      " [25.48619047]\n",
      " [25.48328513]\n",
      " [25.48139562]\n",
      " [25.48503575]\n",
      " [25.47498774]\n",
      " [25.47121804]]\n",
      "[24.8 22.  26.4 33.1 36.1 28.4 33.4 28.2 22.8 20.3 16.1 22.1 19.4 21.6\n",
      " 23.8 16.2 17.8 19.8 23.1 21.  23.8 23.1 20.4 18.5 25.  24.6 23.  22.2\n",
      " 19.3 22.6 19.8 17.1 19.4 22.2 20.7 21.1 19.5 18.5 20.6 19.  18.7 32.7\n",
      " 16.5 23.9 31.2 17.5 17.2 23.1 24.5 26.6 22.9 24.1 18.6 30.1 18.2 20.6\n",
      " 17.8 21.7 22.7 22.6 25.  19.9 20.8 16.8 21.9 27.5 21.9 23.1 50.  50.\n",
      " 50.  50.  50.  13.8 13.8 15.  13.9 13.3 13.1 10.2 10.4 10.9 11.3 12.3\n",
      "  8.8  7.2 10.5  7.4 10.2 11.5 15.1 23.2  9.7 13.8 12.7 13.1 12.5  8.5\n",
      "  5.   6.3]\n",
      "Validation error = 104.34371371828266 \n",
      "\n",
      "Test error = 123.33361637116296 \n",
      "\n"
     ]
    }
   ],
   "source": [
    "with tf.Session() as sess:\n",
    "\n",
    "    sess.run(init)\n",
    "\n",
    "    for i in list(range(epochs)):\n",
    "\n",
    "        sess.run(optimizer)\n",
    "\n",
    "        if i % 10 == 0:\n",
    "            points[0].append(i+1)\n",
    "            points[1].append(sess.run(lost))\n",
    "\n",
    "        if i % 100 == 0:\n",
    "            print(sess.run(lost))\n",
    "    \n",
    "    ax1=plt.subplot(221)\n",
    "    ax2=plt.subplot(222)\n",
    "    ax3=plt.subplot(212)\n",
    "    plt.sca(ax1)\n",
    "    plt.plot(valid_prices, valid_prices, 'r--')\n",
    "    plt.sca(ax2)\n",
    "    plt.plot(test_prices, test_prices, 'r--')\n",
    "    plt.sca(ax3)\n",
    "    plt.plot(points[0], points[1], 'r--')\n",
    "    plt.axis([0, epochs, 50, 600])\n",
    "    plt.show()\n",
    "    \n",
    "    valid_lost = calc(valid_features, valid_prices)[1]\n",
    "\n",
    "    print('Validation error =', sess.run(valid_lost), '\\n')\n",
    "\n",
    "    test_lost = calc(test_features, test_prices)[1]\n",
    "\n",
    "    print('Test error =', sess.run(test_lost), '\\n')"
   ]
  },
  {
   "cell_type": "code",
   "execution_count": null,
   "metadata": {},
   "outputs": [],
   "source": []
  },
  {
   "cell_type": "code",
   "execution_count": null,
   "metadata": {},
   "outputs": [],
   "source": []
  }
 ],
 "metadata": {
  "kernelspec": {
   "display_name": "Python 3",
   "language": "python",
   "name": "python3"
  },
  "language_info": {
   "codemirror_mode": {
    "name": "ipython",
    "version": 3
   },
   "file_extension": ".py",
   "mimetype": "text/x-python",
   "name": "python",
   "nbconvert_exporter": "python",
   "pygments_lexer": "ipython3",
   "version": "3.7.1"
  }
 },
 "nbformat": 4,
 "nbformat_minor": 2
}
