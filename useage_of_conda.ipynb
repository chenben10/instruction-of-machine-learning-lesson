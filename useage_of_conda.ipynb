{
 "cells": [
  {
   "cell_type": "markdown",
   "metadata": {},
   "source": [
    "# 管理開發環境\n",
    "* 列出現有環境 `conda env list`\n",
    "* 列出現有頻道`conda config --get channels`\n",
    "* 建立新環境 `conda create -n my_env pkg_name1 pkg_name2 ...`\n",
    "* 進入新環境(Windows) `activate my_env`\n",
    "* 進入新環境(Linux, OSX) `source activate my_env`\n",
    "* 離開環境(Windows) `deactivate`\n",
    "* 離開環境(Linux, OSX) `source deactivate`\n",
    "* 刪除環境 `conda env remove -n my_env`    \n",
    "    \n",
    "# 管理套件\n",
    "* 安裝套件 `conda install pkg_name1 pkg_name2 ...`\n",
    "* 安裝套件指定版本 `conda install pkg_name=version_number`\n",
    "* 移除套件 `conda remove pkg_name`\n",
    "* 更新套件 `conda update pkg_name`\n",
    "* 更新所有套件 `conda update -all`\n",
    "* 列出所有已安裝套件 `conda list`\n",
    "* 清除安裝後下載的原始檔 `conda clean -tp`\n",
    "* 找尋套件 `conda search pkg_name`\n",
    "\n",
    "# 儲存環境檔\n",
    "* 儲存環境 `conda env export > environment.yaml`\n",
    "\n",
    "# 依據環境檔創建環境\n",
    "* 依據環境檔創建環境 `conda env create -f environment.yaml`"
   ]
  },
  {
   "cell_type": "code",
   "execution_count": null,
   "metadata": {},
   "outputs": [],
   "source": []
  }
 ],
 "metadata": {
  "hide_input": false,
  "kernelspec": {
   "display_name": "Python 3",
   "language": "python",
   "name": "python3"
  },
  "language_info": {
   "codemirror_mode": {
    "name": "ipython",
    "version": 3
   },
   "file_extension": ".py",
   "mimetype": "text/x-python",
   "name": "python",
   "nbconvert_exporter": "python",
   "pygments_lexer": "ipython3",
   "version": "3.7.1"
  },
  "toc": {
   "base_numbering": 1,
   "nav_menu": {},
   "number_sections": true,
   "sideBar": true,
   "skip_h1_title": false,
   "title_cell": "Table of Contents",
   "title_sidebar": "Contents",
   "toc_cell": false,
   "toc_position": {},
   "toc_section_display": true,
   "toc_window_display": false
  },
  "varInspector": {
   "cols": {
    "lenName": 16,
    "lenType": 16,
    "lenVar": 40
   },
   "kernels_config": {
    "python": {
     "delete_cmd_postfix": "",
     "delete_cmd_prefix": "del ",
     "library": "var_list.py",
     "varRefreshCmd": "print(var_dic_list())"
    },
    "r": {
     "delete_cmd_postfix": ") ",
     "delete_cmd_prefix": "rm(",
     "library": "var_list.r",
     "varRefreshCmd": "cat(var_dic_list()) "
    }
   },
   "types_to_exclude": [
    "module",
    "function",
    "builtin_function_or_method",
    "instance",
    "_Feature"
   ],
   "window_display": false
  }
 },
 "nbformat": 4,
 "nbformat_minor": 2
}
